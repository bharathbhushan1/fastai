{
 "cells": [
  {
   "cell_type": "code",
   "execution_count": 1,
   "metadata": {},
   "outputs": [],
   "source": [
    "%reload_ext autoreload\n",
    "%autoreload 2\n",
    "%matplotlib inline"
   ]
  },
  {
   "cell_type": "code",
   "execution_count": 2,
   "metadata": {},
   "outputs": [],
   "source": [
    "from fastai.text import *"
   ]
  },
  {
   "cell_type": "markdown",
   "metadata": {},
   "source": [
    "## 1. Set batch size so that GPU memory OOM is avoided"
   ]
  },
  {
   "cell_type": "code",
   "execution_count": 3,
   "metadata": {},
   "outputs": [],
   "source": [
    "bs=48"
   ]
  },
  {
   "cell_type": "markdown",
   "metadata": {},
   "source": [
    "## 2. Download the data\n",
    "\n",
    "This data is laid out in Imagenet style. There are separate train and test folders. There is also a folder `unsup` with unlabelled data which can be used for the language modelling part (but not the actual text classification / sentiment analysis). The README of this dataset is very interesting.\n",
    "\n",
    "* training set has 12.5k positive and 12.5k negative reviews\n",
    "  * do they need to be equal? are they really equal in the real world? does it make a difference?\n",
    "* the rating of the movie associated with a particular review is also given\n",
    "  * not sure why, is this extra information? the neg/pos class label was sufficient for training.\n",
    "* any particular movie has at most 30 reviews\n",
    "  * they mention that no new information can be gained by having lots of reviews. I dont understand the stated reason fully `because reviews for the same movie tend to have correlated ratings`.\n",
    "* movies in train and test are disjoint.\n",
    "  * memorizing specific things about a specific movie wont help\n",
    "* only good or bad movies are included, the neutral ones are not.\n",
    "  * but in the unsupervised set all movies are included"
   ]
  },
  {
   "cell_type": "code",
   "execution_count": 4,
   "metadata": {},
   "outputs": [
    {
     "data": {
      "text/plain": [
       "[PosixPath('/home/jupyter/.fastai/data/imdb/tmp_clas'),\n",
       " PosixPath('/home/jupyter/.fastai/data/imdb/unsup'),\n",
       " PosixPath('/home/jupyter/.fastai/data/imdb/imdb.vocab'),\n",
       " PosixPath('/home/jupyter/.fastai/data/imdb/tmp_lm'),\n",
       " PosixPath('/home/jupyter/.fastai/data/imdb/data_lm.pkl'),\n",
       " PosixPath('/home/jupyter/.fastai/data/imdb/test'),\n",
       " PosixPath('/home/jupyter/.fastai/data/imdb/models'),\n",
       " PosixPath('/home/jupyter/.fastai/data/imdb/train'),\n",
       " PosixPath('/home/jupyter/.fastai/data/imdb/README')]"
      ]
     },
     "execution_count": 4,
     "metadata": {},
     "output_type": "execute_result"
    }
   ],
   "source": [
    "path = untar_data(URLs.IMDB)\n",
    "path.ls()"
   ]
  },
  {
   "cell_type": "code",
   "execution_count": 5,
   "metadata": {},
   "outputs": [
    {
     "data": {
      "text/plain": [
       "[PosixPath('/home/jupyter/.fastai/data/imdb/train/labeledBow.feat'),\n",
       " PosixPath('/home/jupyter/.fastai/data/imdb/train/pos'),\n",
       " PosixPath('/home/jupyter/.fastai/data/imdb/train/unsupBow.feat'),\n",
       " PosixPath('/home/jupyter/.fastai/data/imdb/train/neg')]"
      ]
     },
     "execution_count": 5,
     "metadata": {},
     "output_type": "execute_result"
    }
   ],
   "source": [
    "(path/'train').ls()"
   ]
  },
  {
   "cell_type": "code",
   "execution_count": 6,
   "metadata": {},
   "outputs": [
    {
     "name": "stdout",
     "output_type": "stream",
     "text": [
      "total 61M\r\n",
      "-rw-r--r-- 1 jupyter jupyter  21M Apr 12  2011 labeledBow.feat\r\n",
      "drwxr-xr-x 2 jupyter jupyter 352K Nov  5  2018 neg\r\n",
      "drwxr-xr-x 2 jupyter jupyter 368K Nov  5  2018 pos\r\n",
      "-rw-r--r-- 1 jupyter jupyter  40M Apr 12  2011 unsupBow.feat\r\n"
     ]
    }
   ],
   "source": [
    "! ls -lh {path}/train"
   ]
  },
  {
   "cell_type": "markdown",
   "metadata": {},
   "source": [
    "## 3. Reading the text for language modeling\n",
    "* `from_folder` - reads all files in the folder recursively.\n",
    "* `filter_by_folder` - keeps only the relevant files. here even unlabeled data is taken because this is just unsupervised modeling (representational learning) and we can take advantage of all the data we can get.\n",
    "* `split_by_rand_pct` - creates two dataloaders, one for training and one for validation (randomly with 0.1 probability of being validation item).\n",
    "* `label_for_lm` - in every epoch it shuffles all sentences, concats them and gives that as input. also does not label the data since labels are unimportant for modeling. \n",
    "\n",
    "So suppose there are 3 sentences.\n",
    "* The tiger is a dangerous animal.\n",
    "* The elephant is vegan.\n",
    "* Humans eat anything that moves (and does not move).\n",
    "\n",
    "Now one hypothetical epoch could be (assuming batch size=4)\n",
    "* the elephant is vegan\n",
    "* humans eat anything that\n",
    "* moves and does not\n",
    "* move the tiger is\n",
    "* a dangerous animal\n",
    "\n",
    "The corresponding expected output that is fed to train the LSTM based network will be:\n",
    "* elephant is vegan humans\n",
    "* eat anything that movies\n",
    "* and does not move\n",
    "* the tiger is a\n",
    "* dangerous animal END"
   ]
  },
  {
   "cell_type": "code",
   "execution_count": 7,
   "metadata": {},
   "outputs": [],
   "source": [
    "data_lm = (TextList.from_folder(path)\n",
    "           .filter_by_folder(include=['train', 'test', 'unsup'])\n",
    "           .split_by_rand_pct(0.1)\n",
    "           .label_for_lm()\n",
    "           .databunch(bs=bs)\n",
    "          )"
   ]
  },
  {
   "cell_type": "markdown",
   "metadata": {},
   "source": [
    "## 4. Save the mapping\n",
    "This helps to avoid slowness due to listing of files, filtering, id assignments etc.\n",
    "I have not seen much of a problem due to this, so saving is really optional as of now."
   ]
  },
  {
   "cell_type": "code",
   "execution_count": 8,
   "metadata": {},
   "outputs": [],
   "source": [
    "data_lm.save(\"data_lm.pkl\")"
   ]
  },
  {
   "cell_type": "code",
   "execution_count": 7,
   "metadata": {},
   "outputs": [],
   "source": [
    "data_lm = load_data(path, \"data_lm.pkl\", bs=bs)"
   ]
  },
  {
   "cell_type": "code",
   "execution_count": 8,
   "metadata": {},
   "outputs": [
    {
     "data": {
      "text/html": [
       "<table border=\"1\" class=\"dataframe\">\n",
       "  <thead>\n",
       "    <tr style=\"text-align: right;\">\n",
       "      <th>idx</th>\n",
       "      <th>text</th>\n",
       "    </tr>\n",
       "  </thead>\n",
       "  <tbody>\n",
       "    <tr>\n",
       "      <td>0</td>\n",
       "      <td>and -- a couple who are jewel thieves . \\n \\n  xxmaj it zings along and is great , amusing , romantic fun . xxbos xxmaj no matter how brilliant and stunning the screenplay would have been , this sequel to ` xxmaj henry , xxmaj portrait of a xxmaj serial xxmaj killer ' was doomed to automatically lose 99 % percent of its power . xxmaj why ?</td>\n",
       "    </tr>\n",
       "    <tr>\n",
       "      <td>1</td>\n",
       "      <td>a village lass played by xxmaj jenny xxmaj agutter ; they have maybe five or six minutes of conversation ( fully clothed , which is rare for xxmaj agutter ) , whereupon the lass falls so deeply in love with the xxup ira man that she shoots the xxmaj english lout dead and proceeds to betray her fellow villagers -- indeed , her entire country . i suspect that some</td>\n",
       "    </tr>\n",
       "    <tr>\n",
       "      <td>2</td>\n",
       "      <td>dangerous hit - man , xxmaj john xxmaj turturro , show up the meeting is canceled . xxmaj irène quickly learns that xxmaj elliot has secret information concerning imminent events in the xxup us . xxmaj the meeting is xxunk for xxmaj september 10th in xxmaj venice . xxmaj irène and xxmaj elliot 's children head to xxmaj venice with xxmaj william xxmaj pound in toe for a showdown with</td>\n",
       "    </tr>\n",
       "    <tr>\n",
       "      <td>3</td>\n",
       "      <td>urban xxmaj legends series , but after loving the first two , for what they were , and this one being directed by xxmaj mary xxmaj lambert ( who i adored for her work with xxmaj madonna and \" xxmaj pet xxmaj xxunk \" ) , i expected a descent movie . \\n \\n  xxmaj not even close . \\n \\n  xxmaj there was no logical reason behind</td>\n",
       "    </tr>\n",
       "    <tr>\n",
       "      <td>4</td>\n",
       "      <td>a xxmaj trick xxmaj baby . xxmaj it is violent , can be repulsive and disgusting , and is not for everybody . xxmaj but if you like this type of film , this is a great film . xxmaj by all means i recomend it highly , especially if you want to see more of xxmaj jennifer xxmaj tilly than you have before . xxmaj definately an unusal but</td>\n",
       "    </tr>\n",
       "  </tbody>\n",
       "</table>"
      ],
      "text/plain": [
       "<IPython.core.display.HTML object>"
      ]
     },
     "metadata": {},
     "output_type": "display_data"
    }
   ],
   "source": [
    "data_lm.show_batch()"
   ]
  },
  {
   "cell_type": "code",
   "execution_count": 9,
   "metadata": {},
   "outputs": [
    {
     "data": {
      "text/plain": [
       "[('.', 10), (',', 11), ('and', 12), ('a', 13), ('of', 14)]"
      ]
     },
     "execution_count": 9,
     "metadata": {},
     "output_type": "execute_result"
    }
   ],
   "source": [
    "[x for x in data_lm.vocab.stoi.items()][10:15]"
   ]
  },
  {
   "cell_type": "code",
   "execution_count": 10,
   "metadata": {},
   "outputs": [
    {
     "data": {
      "text/plain": [
       "'xxbos xxmaj this is the best of the xxma'"
      ]
     },
     "execution_count": 10,
     "metadata": {},
     "output_type": "execute_result"
    }
   ],
   "source": [
    "data_lm.train_ds[0][0].text[:40]"
   ]
  },
  {
   "cell_type": "code",
   "execution_count": 11,
   "metadata": {},
   "outputs": [
    {
     "data": {
      "text/plain": [
       "array([   2,    5,   20,   16,    9,  139,   14,    9,    5, 4975])"
      ]
     },
     "execution_count": 11,
     "metadata": {},
     "output_type": "execute_result"
    }
   ],
   "source": [
    "data_lm.train_ds[0][0].data[:10]"
   ]
  },
  {
   "cell_type": "markdown",
   "metadata": {},
   "source": [
    "## 5. Create the neural network to learn the language model\n",
    "Transfer learning is used to allow the movie review based language model to be learnt more easily and quickly. The base weights come from AWD_LSTM trained on a cleaned up version of wikipedia pages called WikiText-103. \n",
    "\n",
    "* The input data bunch is provided\n",
    "* `AWD_LSTM` is a recurrent network with an embedding layer followed by three LSTM layers (with dropouts).\n",
    "* `drop_mult` - is unclear, seems to be some kind of a common multiplier for all dropout `p` values. So if you ask for 0.4 value of `p` (so that 40% neurons are dropped every training step), then the effective `p` becomes `0.12` thus ensuring not much dropout happens. This is again some Jeremy Howard magic.\n",
    "\n",
    "#### AWD_LSTM\n",
    "* `AWD_LSTM` stands for `AWD Long short term memory` neural networks\n",
    "* `AWD` stands for `ASGD Weight Dropped`. Basically dropout layers are intelligently used even in the recurrent network to provide regularization.\n",
    "* `ASGD` stands for `Average SGD`. Actually the variant proposed in the paper is called `NT-ASGD` probably for `non-monotonic trigger`\n",
    "* fast.ai does not seem to use ASGD or NT-ASGD as the paper advises. \n",
    "* great resource for understanding the paper https://yashuseth.blog/2018/09/12/awd-lstm-explanation-understanding-language-model/\n",
    "\n",
    "Great quote from Jeremy Howard\n",
    "> So getting really good at training language models is a great way to teach a neural-net a lot about what is our world, what's in our world, how do things work in our world. It's a really fascinating topic"
   ]
  },
  {
   "cell_type": "code",
   "execution_count": 12,
   "metadata": {},
   "outputs": [],
   "source": [
    "learn = language_model_learner(data_lm, AWD_LSTM, drop_mult=0.3)"
   ]
  },
  {
   "cell_type": "code",
   "execution_count": 13,
   "metadata": {},
   "outputs": [
    {
     "data": {
      "text/plain": [
       "SequentialRNN(\n",
       "  (0): AWD_LSTM(\n",
       "    (encoder): Embedding(60000, 400, padding_idx=1)\n",
       "    (encoder_dp): EmbeddingDropout(\n",
       "      (emb): Embedding(60000, 400, padding_idx=1)\n",
       "    )\n",
       "    (rnns): ModuleList(\n",
       "      (0): WeightDropout(\n",
       "        (module): LSTM(400, 1152, batch_first=True)\n",
       "      )\n",
       "      (1): WeightDropout(\n",
       "        (module): LSTM(1152, 1152, batch_first=True)\n",
       "      )\n",
       "      (2): WeightDropout(\n",
       "        (module): LSTM(1152, 400, batch_first=True)\n",
       "      )\n",
       "    )\n",
       "    (input_dp): RNNDropout()\n",
       "    (hidden_dps): ModuleList(\n",
       "      (0): RNNDropout()\n",
       "      (1): RNNDropout()\n",
       "      (2): RNNDropout()\n",
       "    )\n",
       "  )\n",
       "  (1): LinearDecoder(\n",
       "    (decoder): Linear(in_features=400, out_features=60000, bias=True)\n",
       "    (output_dp): RNNDropout()\n",
       "  )\n",
       ")"
      ]
     },
     "execution_count": 13,
     "metadata": {},
     "output_type": "execute_result"
    }
   ],
   "source": [
    "learn.model"
   ]
  },
  {
   "cell_type": "code",
   "execution_count": 14,
   "metadata": {},
   "outputs": [
    {
     "data": {
      "text/html": [],
      "text/plain": [
       "<IPython.core.display.HTML object>"
      ]
     },
     "metadata": {},
     "output_type": "display_data"
    },
    {
     "name": "stdout",
     "output_type": "stream",
     "text": [
      "LR Finder is complete, type {learner_name}.recorder.plot() to see the graph.\n"
     ]
    }
   ],
   "source": [
    "learn.lr_find()"
   ]
  },
  {
   "cell_type": "code",
   "execution_count": 15,
   "metadata": {},
   "outputs": [
    {
     "data": {
      "text/plain": [
       "SequentialRNN\n",
       "======================================================================\n",
       "Layer (type)         Output Shape         Param #    Trainable \n",
       "======================================================================\n",
       "RNNDropout           [70, 400]            0          False     \n",
       "______________________________________________________________________\n",
       "RNNDropout           [70, 1152]           0          False     \n",
       "______________________________________________________________________\n",
       "RNNDropout           [70, 1152]           0          False     \n",
       "______________________________________________________________________\n",
       "Linear               [70, 60000]          24,060,000 True      \n",
       "______________________________________________________________________\n",
       "RNNDropout           [70, 400]            0          False     \n",
       "______________________________________________________________________\n",
       "\n",
       "Total params: 24,060,000\n",
       "Total trainable params: 24,060,000\n",
       "Total non-trainable params: 0\n",
       "Optimized with 'torch.optim.adam.Adam', betas=(0.9, 0.99)\n",
       "Using true weight decay as discussed in https://www.fast.ai/2018/07/02/adam-weight-decay/ \n",
       "Loss function : FlattenedLoss\n",
       "======================================================================\n",
       "Callbacks functions applied \n",
       "    RNNTrainer"
      ]
     },
     "execution_count": 15,
     "metadata": {},
     "output_type": "execute_result"
    }
   ],
   "source": [
    "learn.summary()"
   ]
  },
  {
   "cell_type": "code",
   "execution_count": 16,
   "metadata": {},
   "outputs": [
    {
     "data": {
      "image/png": "[encoded data removed]",
      "text/plain": [
       "<Figure size 432x288 with 1 Axes>"
      ]
     },
     "metadata": {
      "needs_background": "light"
     },
     "output_type": "display_data"
    }
   ],
   "source": [
    "learn.recorder.plot()"
   ]
  },
  {
   "cell_type": "code",
   "execution_count": 17,
   "metadata": {},
   "outputs": [
    {
     "data": {
      "image/png": "[encoded data removed]",
      "text/plain": [
       "<Figure size 432x288 with 1 Axes>"
      ]
     },
     "metadata": {
      "needs_background": "light"
     },
     "output_type": "display_data"
    }
   ],
   "source": [
    "learn.recorder.plot(skip_end=15)"
   ]
  },
  {
   "cell_type": "code",
   "execution_count": 18,
   "metadata": {},
   "outputs": [
    {
     "data": {
      "text/html": [
       "<table border=\"1\" class=\"dataframe\">\n",
       "  <thead>\n",
       "    <tr style=\"text-align: left;\">\n",
       "      <th>epoch</th>\n",
       "      <th>train_loss</th>\n",
       "      <th>valid_loss</th>\n",
       "      <th>accuracy</th>\n",
       "      <th>time</th>\n",
       "    </tr>\n",
       "  </thead>\n",
       "  <tbody>\n",
       "    <tr>\n",
       "      <td>0</td>\n",
       "      <td>4.168975</td>\n",
       "      <td>4.028216</td>\n",
       "      <td>0.295077</td>\n",
       "      <td>49:49</td>\n",
       "    </tr>\n",
       "  </tbody>\n",
       "</table>"
      ],
      "text/plain": [
       "<IPython.core.display.HTML object>"
      ]
     },
     "metadata": {},
     "output_type": "display_data"
    }
   ],
   "source": [
    "learn.fit_one_cycle(1, 1e-2, moms=(0.8,0.7))"
   ]
  },
  {
   "cell_type": "code",
   "execution_count": 19,
   "metadata": {},
   "outputs": [],
   "source": [
    "learn.save('lm-1')\n",
    "learn.load('lm-1');"
   ]
  },
  {
   "cell_type": "code",
   "execution_count": 27,
   "metadata": {},
   "outputs": [],
   "source": [
    "learn.unfreeze()"
   ]
  },
  {
   "cell_type": "code",
   "execution_count": null,
   "metadata": {},
   "outputs": [
    {
     "data": {
      "text/html": [
       "\n",
       "    <div>\n",
       "        <style>\n",
       "            /* Turns off some styling */\n",
       "            progress {\n",
       "                /* gets rid of default border in Firefox and Opera. */\n",
       "                border: none;\n",
       "                /* Needs to be in here for Safari polyfill so background images work as expected. */\n",
       "                background-size: auto;\n",
       "            }\n",
       "            .progress-bar-interrupted, .progress-bar-interrupted::-webkit-progress-bar {\n",
       "                background: #F44336;\n",
       "            }\n",
       "        </style>\n",
       "      <progress value='0' class='' max='2', style='width:300px; height:20px; vertical-align: middle;'></progress>\n",
       "      0.00% [0/2 00:00<00:00]\n",
       "    </div>\n",
       "    \n",
       "<table border=\"1\" class=\"dataframe\">\n",
       "  <thead>\n",
       "    <tr style=\"text-align: left;\">\n",
       "      <th>epoch</th>\n",
       "      <th>train_loss</th>\n",
       "      <th>valid_loss</th>\n",
       "      <th>accuracy</th>\n",
       "      <th>time</th>\n",
       "    </tr>\n",
       "  </thead>\n",
       "  <tbody>\n",
       "  </tbody>\n",
       "</table><p>\n",
       "\n",
       "    <div>\n",
       "        <style>\n",
       "            /* Turns off some styling */\n",
       "            progress {\n",
       "                /* gets rid of default border in Firefox and Opera. */\n",
       "                border: none;\n",
       "                /* Needs to be in here for Safari polyfill so background images work as expected. */\n",
       "                background-size: auto;\n",
       "            }\n",
       "            .progress-bar-interrupted, .progress-bar-interrupted::-webkit-progress-bar {\n",
       "                background: #F44336;\n",
       "            }\n",
       "        </style>\n",
       "      <progress value='35' class='' max='898', style='width:300px; height:20px; vertical-align: middle;'></progress>\n",
       "      3.90% [35/898 00:05<02:08]\n",
       "    </div>\n",
       "    "
      ],
      "text/plain": [
       "<IPython.core.display.HTML object>"
      ]
     },
     "metadata": {},
     "output_type": "display_data"
    }
   ],
   "source": [
    "learn.fit_one_cycle(2, 1e-3, moms=(0.8,0.7))"
   ]
  },
  {
   "cell_type": "code",
   "execution_count": null,
   "metadata": {},
   "outputs": [],
   "source": [
    "[x for x in data_lm.vocab.stoi.items()][10:15]"
   ]
  },
  {
   "cell_type": "code",
   "execution_count": null,
   "metadata": {},
   "outputs": [],
   "source": [
    "print(\"hello\")"
   ]
  },
  {
   "cell_type": "code",
   "execution_count": null,
   "metadata": {},
   "outputs": [],
   "source": []
  }
 ],
 "metadata": {
  "kernelspec": {
   "display_name": "Python 3",
   "language": "python",
   "name": "python3"
  },
  "language_info": {
   "codemirror_mode": {
    "name": "ipython",
    "version": 3
   },
   "file_extension": ".py",
   "mimetype": "text/x-python",
   "name": "python",
   "nbconvert_exporter": "python",
   "pygments_lexer": "ipython3",
   "version": "3.7.0"
  }
 },
 "nbformat": 4,
 "nbformat_minor": 2
}
