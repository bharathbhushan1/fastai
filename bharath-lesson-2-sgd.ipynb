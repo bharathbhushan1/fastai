{
 "cells": [
  {
   "cell_type": "markdown",
   "metadata": {},
   "source": [
    "# Notebook to try out Stochastic Gradient Descent"
   ]
  },
  {
   "cell_type": "code",
   "execution_count": 1,
   "metadata": {},
   "outputs": [],
   "source": [
    "%matplotlib inline\n",
    "from fastai import *"
   ]
  },
  {
   "cell_type": "markdown",
   "metadata": {},
   "source": [
    "#### Number of training examples: n"
   ]
  },
  {
   "cell_type": "code",
   "execution_count": 2,
   "metadata": {},
   "outputs": [],
   "source": [
    "n=100"
   ]
  },
  {
   "cell_type": "markdown",
   "metadata": {},
   "source": [
    "#### To simulate bias, we includes a column of ones for each input value. So the input tensor has the actual x value and a 1.0"
   ]
  },
  {
   "cell_type": "code",
   "execution_count": 3,
   "metadata": {},
   "outputs": [
    {
     "data": {
      "text/plain": [
       "torch.Size([100, 2])"
      ]
     },
     "execution_count": 3,
     "metadata": {},
     "output_type": "execute_result"
    }
   ],
   "source": [
    "x = torch.ones(n, 2)\n",
    "x.shape"
   ]
  },
  {
   "cell_type": "markdown",
   "metadata": {},
   "source": [
    "#### Set the x value to a random number in [-1, 1]"
   ]
  },
  {
   "cell_type": "code",
   "execution_count": 4,
   "metadata": {},
   "outputs": [
    {
     "data": {
      "text/plain": [
       "tensor([[ 0.8833,  1.0000],\n",
       "        [-0.5769,  1.0000],\n",
       "        [-0.1892,  1.0000],\n",
       "        [ 0.5717,  1.0000],\n",
       "        [ 0.7182,  1.0000]])"
      ]
     },
     "execution_count": 4,
     "metadata": {},
     "output_type": "execute_result"
    }
   ],
   "source": [
    "x[:,0].uniform_(-1, 1)\n",
    "x[:5]"
   ]
  },
  {
   "cell_type": "markdown",
   "metadata": {},
   "source": [
    "#### a is the parameter tensor. it has two parts. first part is the actual weight and second part is the bias which makes this model an affine transformation. Something like a[0] * x + a[1]"
   ]
  },
  {
   "cell_type": "code",
   "execution_count": 5,
   "metadata": {},
   "outputs": [
    {
     "data": {
      "text/plain": [
       "tensor([3., 2.])"
      ]
     },
     "execution_count": 5,
     "metadata": {},
     "output_type": "execute_result"
    }
   ],
   "source": [
    "a = tensor(3.,2); a"
   ]
  },
  {
   "cell_type": "code",
   "execution_count": 6,
   "metadata": {},
   "outputs": [
    {
     "data": {
      "text/plain": [
       "(torch.Size([100, 2]), torch.Size([2]))"
      ]
     },
     "execution_count": 6,
     "metadata": {},
     "output_type": "execute_result"
    }
   ],
   "source": [
    "x.shape, a.shape"
   ]
  },
  {
   "cell_type": "markdown",
   "metadata": {},
   "source": [
    "#### @ operator does a matrix multiply of the input and the parameters (only weight part) and gives the output"
   ]
  },
  {
   "cell_type": "code",
   "execution_count": 7,
   "metadata": {},
   "outputs": [
    {
     "data": {
      "text/plain": [
       "tensor([ 4.6500,  0.2692,  1.4325,  3.7150,  4.1545,  3.5699,  2.2916, -0.7714,\n",
       "         3.1969,  0.1706,  2.1427,  1.2778,  0.9062,  3.7316,  1.9353,  1.5777,\n",
       "         1.7149,  1.3578,  1.4210,  3.5520, -0.1473,  2.3666,  2.2614,  0.5830,\n",
       "        -0.1287,  1.6576,  2.4325,  0.4162,  2.7627,  1.9891, -0.5747,  3.1047,\n",
       "         2.2536,  1.2823,  0.1682,  1.7521,  3.6567,  4.1403,  2.8422,  0.8144,\n",
       "         1.0899,  1.4085, -0.3624,  0.4817,  2.8488,  1.9306, -0.0050,  1.9470,\n",
       "         2.2610, -0.7341,  1.8245,  0.3485, -0.9508,  0.3846,  0.8150,  4.6338,\n",
       "         4.7591,  1.8832, -0.3918,  3.4717, -0.5389,  4.9088,  2.1165,  2.9692,\n",
       "         3.1935,  0.6109,  0.9293,  1.1738,  1.4100,  1.9791, -0.4606, -0.7903,\n",
       "         2.1799,  1.2946,  0.0697,  1.7323,  4.3526,  2.2349,  3.3775,  3.1255,\n",
       "         1.9078,  3.1418,  4.3042,  3.9447,  4.7573, -0.0371,  3.5696, -0.6421,\n",
       "         4.4563,  3.7175,  0.4889,  2.8020,  1.2254,  4.1977, -0.3475,  4.9173,\n",
       "         0.6612,  3.5571,  2.9769,  0.2327])"
      ]
     },
     "execution_count": 7,
     "metadata": {},
     "output_type": "execute_result"
    }
   ],
   "source": [
    "x@a"
   ]
  },
  {
   "cell_type": "markdown",
   "metadata": {},
   "source": [
    "#### Add some noise when generating the expected output. we expect the model to ignore the noise and learn the underlying distribution"
   ]
  },
  {
   "cell_type": "code",
   "execution_count": 8,
   "metadata": {},
   "outputs": [],
   "source": [
    "y = x@a + torch.rand(n) "
   ]
  },
  {
   "cell_type": "code",
   "execution_count": 9,
   "metadata": {},
   "outputs": [
    {
     "data": {
      "text/plain": [
       "<matplotlib.collections.PathCollection at 0x1a22f903c8>"
      ]
     },
     "execution_count": 9,
     "metadata": {},
     "output_type": "execute_result"
    },
    {
     "data": {
      "image/png": "[encoded data removed]",
      "text/plain": [
       "<Figure size 432x288 with 1 Axes>"
      ]
     },
     "metadata": {
      "needs_background": "light"
     },
     "output_type": "display_data"
    }
   ],
   "source": [
    "plt.scatter(x[:, 0], y)"
   ]
  },
  {
   "cell_type": "markdown",
   "metadata": {},
   "source": [
    "#### Loss function is mean squared error"
   ]
  },
  {
   "cell_type": "code",
   "execution_count": 10,
   "metadata": {},
   "outputs": [],
   "source": [
    "def mse(actual, expected): return ((actual - expected) ** 2).mean()"
   ]
  },
  {
   "cell_type": "markdown",
   "metadata": {},
   "source": [
    "#### If we pick a certain set of params and check we can find the error and the predictions"
   ]
  },
  {
   "cell_type": "code",
   "execution_count": 11,
   "metadata": {},
   "outputs": [
    {
     "data": {
      "text/plain": [
       "tensor(5.1676)"
      ]
     },
     "execution_count": 11,
     "metadata": {},
     "output_type": "execute_result"
    }
   ],
   "source": [
    "a = tensor(-1., 3)\n",
    "actual = x@a\n",
    "mse(actual, y)"
   ]
  },
  {
   "cell_type": "code",
   "execution_count": 12,
   "metadata": {},
   "outputs": [
    {
     "data": {
      "text/plain": [
       "<matplotlib.collections.PathCollection at 0x1a2305a4e0>"
      ]
     },
     "execution_count": 12,
     "metadata": {},
     "output_type": "execute_result"
    },
    {
     "data": {
      "image/png": "[encoded data removed]",
      "text/plain": [
       "<Figure size 432x288 with 1 Axes>"
      ]
     },
     "metadata": {
      "needs_background": "light"
     },
     "output_type": "display_data"
    }
   ],
   "source": [
    "plt.scatter(x[:,0], y)\n",
    "plt.scatter(x[:,0], actual)"
   ]
  },
  {
   "cell_type": "markdown",
   "metadata": {},
   "source": [
    "#### Optimization algorithm"
   ]
  },
  {
   "cell_type": "code",
   "execution_count": 13,
   "metadata": {},
   "outputs": [
    {
     "data": {
      "text/plain": [
       "Parameter containing:\n",
       "tensor([-1.,  3.], requires_grad=True)"
      ]
     },
     "execution_count": 13,
     "metadata": {},
     "output_type": "execute_result"
    }
   ],
   "source": [
    "a = nn.Parameter(a); a"
   ]
  },
  {
   "cell_type": "code",
   "execution_count": 14,
   "metadata": {},
   "outputs": [],
   "source": [
    "def update():\n",
    "    actual = x@a\n",
    "    loss = mse(actual, y)\n",
    "    if t % 10 == 0: print(loss)\n",
    "    loss.backward()\n",
    "    with torch.no_grad():\n",
    "        a.sub_(lr * a.grad)\n",
    "        a.grad.zero_()"
   ]
  },
  {
   "cell_type": "code",
   "execution_count": 15,
   "metadata": {},
   "outputs": [
    {
     "name": "stdout",
     "output_type": "stream",
     "text": [
      "tensor(5.1676, grad_fn=<MeanBackward0>)\n",
      "tensor(1.5036, grad_fn=<MeanBackward0>)\n",
      "tensor(0.5255, grad_fn=<MeanBackward0>)\n",
      "tensor(0.2219, grad_fn=<MeanBackward0>)\n",
      "tensor(0.1271, grad_fn=<MeanBackward0>)\n",
      "tensor(0.0975, grad_fn=<MeanBackward0>)\n",
      "tensor(0.0882, grad_fn=<MeanBackward0>)\n",
      "tensor(0.0853, grad_fn=<MeanBackward0>)\n",
      "tensor(0.0844, grad_fn=<MeanBackward0>)\n",
      "tensor(0.0842, grad_fn=<MeanBackward0>)\n"
     ]
    }
   ],
   "source": [
    "lr = 1e-1\n",
    "for t in range(100): update()"
   ]
  },
  {
   "cell_type": "markdown",
   "metadata": {},
   "source": [
    "#### We see that the discovered params are very close to the actual params of the underlying data"
   ]
  },
  {
   "cell_type": "code",
   "execution_count": 16,
   "metadata": {},
   "outputs": [
    {
     "data": {
      "text/plain": [
       "Parameter containing:\n",
       "tensor([3.0216, 2.4528], requires_grad=True)"
      ]
     },
     "execution_count": 16,
     "metadata": {},
     "output_type": "execute_result"
    }
   ],
   "source": [
    "a"
   ]
  },
  {
   "cell_type": "code",
   "execution_count": 17,
   "metadata": {},
   "outputs": [
    {
     "data": {
      "text/plain": [
       "<matplotlib.collections.PathCollection at 0x1a23140160>"
      ]
     },
     "execution_count": 17,
     "metadata": {},
     "output_type": "execute_result"
    },
    {
     "data": {
      "image/png": "[encoded data removed]",
      "text/plain": [
       "<Figure size 432x288 with 1 Axes>"
      ]
     },
     "metadata": {
      "needs_background": "light"
     },
     "output_type": "display_data"
    }
   ],
   "source": [
    "plt.scatter(x[:,0], y)\n",
    "plt.scatter(x[:,0], x@a)"
   ]
  },
  {
   "cell_type": "markdown",
   "metadata": {},
   "source": [
    "#### Let us try out weight decay"
   ]
  },
  {
   "cell_type": "code",
   "execution_count": 26,
   "metadata": {},
   "outputs": [
    {
     "name": "stdout",
     "output_type": "stream",
     "text": [
      "tensor(5.1677, grad_fn=<AddBackward0>)\n",
      "tensor(1.5037, grad_fn=<AddBackward0>)\n",
      "tensor(0.5256, grad_fn=<AddBackward0>)\n",
      "tensor(0.2220, grad_fn=<AddBackward0>)\n",
      "tensor(0.1272, grad_fn=<AddBackward0>)\n",
      "tensor(0.0976, grad_fn=<AddBackward0>)\n",
      "tensor(0.0884, grad_fn=<AddBackward0>)\n",
      "tensor(0.0855, grad_fn=<AddBackward0>)\n",
      "tensor(0.0846, grad_fn=<AddBackward0>)\n",
      "tensor(0.0843, grad_fn=<AddBackward0>)\n"
     ]
    }
   ],
   "source": [
    "a = nn.Parameter(tensor(-1, 3.))\n",
    "def update():\n",
    "    actual = x@a\n",
    "    w2 = a[0]**2 + a[1]**2\n",
    "    loss = mse(actual, y) + wd * w2\n",
    "    if t % 10 == 0: print(loss)\n",
    "    loss.backward()\n",
    "    with torch.no_grad():\n",
    "        a.sub_(lr * a.grad)\n",
    "        a.grad.zero_()\n",
    "\n",
    "lr = 1e-1\n",
    "wd = 1e-5\n",
    "for t in range(100): update()"
   ]
  },
  {
   "cell_type": "markdown",
   "metadata": {},
   "source": [
    "#### Let us try momentum"
   ]
  },
  {
   "cell_type": "code",
   "execution_count": 52,
   "metadata": {},
   "outputs": [
    {
     "name": "stdout",
     "output_type": "stream",
     "text": [
      "tensor(5.1677, grad_fn=<AddBackward0>)\n",
      "tensor(1.5210, grad_fn=<AddBackward0>)\n",
      "tensor(0.5309, grad_fn=<AddBackward0>)\n",
      "tensor(0.2237, grad_fn=<AddBackward0>)\n",
      "tensor(0.1277, grad_fn=<AddBackward0>)\n",
      "tensor(0.0978, grad_fn=<AddBackward0>)\n",
      "tensor(0.0884, grad_fn=<AddBackward0>)\n",
      "tensor(0.0855, grad_fn=<AddBackward0>)\n",
      "tensor(0.0846, grad_fn=<AddBackward0>)\n",
      "tensor(0.0843, grad_fn=<AddBackward0>)\n"
     ]
    }
   ],
   "source": [
    "a = nn.Parameter(tensor(-1, 3.))\n",
    "a_previous_grad = 0.\n",
    "\n",
    "def update(a_previous_grad):\n",
    "    actual = x@a\n",
    "    w2 = a[0]**2 + a[1]**2\n",
    "    loss = mse(actual, y) + wd * w2\n",
    "    if t % 10 == 0: print(loss)\n",
    "    loss.backward()\n",
    "    with torch.no_grad():\n",
    "        grad = alpha * a.grad + (1-alpha) * a_previous_grad\n",
    "        a_previous_grad = a.grad\n",
    "        a.sub_(lr * grad)\n",
    "        a.grad.zero_()\n",
    "    return a_previous_grad\n",
    "\n",
    "lr = 1e-1\n",
    "wd = 1e-5\n",
    "alpha = 0.9\n",
    "for t in range(100):\n",
    "    a_previous_grad = update(a_previous_grad)"
   ]
  },
  {
   "cell_type": "markdown",
   "metadata": {},
   "source": [
    "#### Let us try RMSProp"
   ]
  },
  {
   "cell_type": "code",
   "execution_count": 46,
   "metadata": {},
   "outputs": [
    {
     "name": "stdout",
     "output_type": "stream",
     "text": [
      "tensor(5.1677, grad_fn=<AddBackward0>)\n",
      "tensor(1.9139, grad_fn=<AddBackward0>)\n",
      "tensor(1.0643, grad_fn=<AddBackward0>)\n",
      "tensor(0.5135, grad_fn=<AddBackward0>)\n",
      "tensor(0.1971, grad_fn=<AddBackward0>)\n",
      "tensor(0.1150, grad_fn=<AddBackward0>)\n",
      "tensor(0.1105, grad_fn=<AddBackward0>)\n",
      "tensor(0.1262, grad_fn=<AddBackward0>)\n",
      "tensor(0.1346, grad_fn=<AddBackward0>)\n",
      "tensor(0.1376, grad_fn=<AddBackward0>)\n"
     ]
    }
   ],
   "source": [
    "a = nn.Parameter(tensor(-1, 3.))\n",
    "a_previous_grad_squared = 0.\n",
    "\n",
    "def update(a_previous_grad_squared):\n",
    "    actual = x@a\n",
    "    w2 = a[0]**2 + a[1]**2\n",
    "    loss = mse(actual, y) + wd * w2\n",
    "    if t % 10 == 0: print(loss)\n",
    "    loss.backward()\n",
    "    with torch.no_grad():\n",
    "        a_previous_grad_squared = alpha * a.grad * a.grad + (1-alpha) * a_previous_grad_squared\n",
    "        a.sub_(lr * a.grad / a_previous_grad_squared)\n",
    "        a.grad.zero_()\n",
    "    return a_previous_grad_squared\n",
    "\n",
    "lr = 1e-1\n",
    "wd = 1e-5\n",
    "alpha = 0.1\n",
    "for t in range(100):\n",
    "    a_previous_grad_squared = update(a_previous_grad_squared) "
   ]
  },
  {
   "cell_type": "code",
   "execution_count": null,
   "metadata": {},
   "outputs": [],
   "source": []
  }
 ],
 "metadata": {
  "kernelspec": {
   "display_name": "Python 3",
   "language": "python",
   "name": "python3"
  },
  "language_info": {
   "codemirror_mode": {
    "name": "ipython",
    "version": 3
   },
   "file_extension": ".py",
   "mimetype": "text/x-python",
   "name": "python",
   "nbconvert_exporter": "python",
   "pygments_lexer": "ipython3",
   "version": "3.7.3"
  }
 },
 "nbformat": 4,
 "nbformat_minor": 2
}
